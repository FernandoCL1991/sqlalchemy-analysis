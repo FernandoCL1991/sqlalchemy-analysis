{
 "cells": [
  {
   "cell_type": "code",
   "execution_count": 1,
   "metadata": {},
   "outputs": [],
   "source": [
    "# Importing Dependencies\n",
    "\n",
    "%matplotlib inline\n",
    "from matplotlib import style\n",
    "style.use('fivethirtyeight')\n",
    "import matplotlib.pyplot as plt"
   ]
  },
  {
   "cell_type": "code",
   "execution_count": 2,
   "metadata": {},
   "outputs": [],
   "source": [
    "# Importing Dependencies\n",
    "\n",
    "import numpy as np\n",
    "import pandas as pd\n",
    "import datetime as dt\n",
    "from datetime import date, time, datetime"
   ]
  },
  {
   "cell_type": "markdown",
   "metadata": {},
   "source": [
    "# Reflect Tables into SQLAlchemy ORM"
   ]
  },
  {
   "cell_type": "code",
   "execution_count": 3,
   "metadata": {},
   "outputs": [],
   "source": [
    "# Python SQL toolkit and Object Relational Mapper\n",
    "\n",
    "import sqlalchemy\n",
    "from sqlalchemy.ext.automap import automap_base\n",
    "from sqlalchemy.orm import Session\n",
    "from sqlalchemy import create_engine, func\n",
    "\n",
    "from sqlalchemy import Column, Integer, String, Float\n",
    "from sqlalchemy.ext.declarative import declarative_base\n",
    "Base=declarative_base()"
   ]
  },
  {
   "cell_type": "code",
   "execution_count": 4,
   "metadata": {},
   "outputs": [],
   "source": [
    "# Creating engine to hawaii.sqlite\n",
    "\n",
    "engine = create_engine(\"sqlite:///Resources/hawaii.sqlite\")"
   ]
  },
  {
   "cell_type": "code",
   "execution_count": 5,
   "metadata": {},
   "outputs": [],
   "source": [
    "# Creating a new session to start manipulating the information\n",
    "\n",
    "session=Session(bind=engine)"
   ]
  },
  {
   "cell_type": "code",
   "execution_count": 6,
   "metadata": {},
   "outputs": [],
   "source": [
    "# Declaring a Base using 'auto/map_base()'\n",
    "\n",
    "Base= automap_base()"
   ]
  },
  {
   "cell_type": "code",
   "execution_count": 7,
   "metadata": {},
   "outputs": [],
   "source": [
    "# Using the Base class to reflect the tables\n",
    "\n",
    "Base.prepare(engine, reflect=True)"
   ]
  },
  {
   "cell_type": "code",
   "execution_count": 8,
   "metadata": {},
   "outputs": [
    {
     "data": {
      "text/plain": [
       "['measurement', 'station']"
      ]
     },
     "execution_count": 8,
     "metadata": {},
     "output_type": "execute_result"
    }
   ],
   "source": [
    "# Printing all of the classes mapped to the Base stored in hawaii.sqlite\n",
    "\n",
    "Base.classes.keys()"
   ]
  },
  {
   "cell_type": "code",
   "execution_count": 9,
   "metadata": {},
   "outputs": [],
   "source": [
    "# Creating the 'Measurement' class\n",
    "\n",
    "Measurement = Base.classes.measurement\n",
    "\n",
    "# Creating the 'Stations' class\n",
    "\n",
    "Stations=Base.classes.station"
   ]
  },
  {
   "cell_type": "code",
   "execution_count": 10,
   "metadata": {},
   "outputs": [
    {
     "data": {
      "text/plain": [
       "{'_sa_instance_state': <sqlalchemy.orm.state.InstanceState at 0x21fec1aa6d0>,\n",
       " 'prcp': 0.08,\n",
       " 'station': 'USC00519397',\n",
       " 'tobs': 65.0,\n",
       " 'date': '2010-01-01',\n",
       " 'id': 1}"
      ]
     },
     "execution_count": 10,
     "metadata": {},
     "output_type": "execute_result"
    }
   ],
   "source": [
    "# Displaying the rows, columns and data in dictionary format for 'Measurement'\n",
    "\n",
    "first_row_m=session.query(Measurement).first()\n",
    "first_row_m.__dict__"
   ]
  },
  {
   "cell_type": "code",
   "execution_count": 11,
   "metadata": {},
   "outputs": [
    {
     "data": {
      "text/plain": [
       "{'_sa_instance_state': <sqlalchemy.orm.state.InstanceState at 0x21fec1b34f0>,\n",
       " 'elevation': 3.0,\n",
       " 'longitude': -157.8168,\n",
       " 'station': 'USC00519397',\n",
       " 'id': 1,\n",
       " 'latitude': 21.2716,\n",
       " 'name': 'WAIKIKI 717.2, HI US'}"
      ]
     },
     "execution_count": 11,
     "metadata": {},
     "output_type": "execute_result"
    }
   ],
   "source": [
    "# Displaying the rows, columns and data in dictionary format for 'Stations'\n",
    "\n",
    "first_row_s=session.query(Stations).first()\n",
    "first_row_s.__dict__"
   ]
  },
  {
   "cell_type": "code",
   "execution_count": 12,
   "metadata": {},
   "outputs": [
    {
     "name": "stdout",
     "output_type": "stream",
     "text": [
      "--------------------\n",
      "tobs:65.0\n",
      "station:USC00519397\n",
      "id:1\n",
      "prcp:0.08\n",
      "date:2010-01-01\n",
      "--------------------\n",
      "tobs:63.0\n",
      "station:USC00519397\n",
      "id:2\n",
      "prcp:0.0\n",
      "date:2010-01-02\n"
     ]
    }
   ],
   "source": [
    "# Displaying the first 2 rows of data from 'Measurement'\n",
    "\n",
    "for row in session.query(Measurement)\\\n",
    "    .limit(2).all():\n",
    "    print(\"--\"*10)\n",
    "    print(f\"tobs:{row.tobs}\")\n",
    "    print(f\"station:{row.station}\")\n",
    "    print(f\"id:{row.id}\")\n",
    "    print(f\"prcp:{row.prcp}\")\n",
    "    print(f\"date:{row.date}\")"
   ]
  },
  {
   "cell_type": "code",
   "execution_count": 13,
   "metadata": {},
   "outputs": [
    {
     "name": "stdout",
     "output_type": "stream",
     "text": [
      "--------------------\n",
      "longitude:-157.8168\n",
      "name:WAIKIKI 717.2, HI US\n",
      "id:1\n",
      "elevation:3.0\n",
      "latitude:21.2716\n",
      "station:USC00519397\n",
      "--------------------\n",
      "longitude:-157.8015\n",
      "name:KANEOHE 838.1, HI US\n",
      "id:2\n",
      "elevation:14.6\n",
      "latitude:21.4234\n",
      "station:USC00513117\n"
     ]
    }
   ],
   "source": [
    "# Displaying the first 2 rows of data from 'Stations'\n",
    "\n",
    "for row in session.query(Stations)\\\n",
    "    .limit(2).all():\n",
    "    print(\"--\"*10)\n",
    "    print(f\"longitude:{row.longitude}\")\n",
    "    print(f\"name:{row.name}\")\n",
    "    print(f\"id:{row.id}\")\n",
    "    print(f\"elevation:{row.elevation}\")\n",
    "    print(f\"latitude:{row.latitude}\")\n",
    "    print(f\"station:{row.station}\")"
   ]
  },
  {
   "cell_type": "code",
   "execution_count": 14,
   "metadata": {},
   "outputs": [
    {
     "name": "stdout",
     "output_type": "stream",
     "text": [
      "There are a total of 19550 measurements in the dataset.\n",
      "There are a total of 9 stations in the dataset.\n"
     ]
    }
   ],
   "source": [
    "# Querying and printing the count of Measurements\n",
    "\n",
    "count_measurements=session.query(Measurement).group_by(Measurement.id).count()\n",
    "print(f\"There are a total of {count_measurements} measurements in the dataset.\")\n",
    "\n",
    "# Querying and printing the count of Stations\n",
    "\n",
    "count_stations=session.query(Stations).group_by(Stations.id).count()\n",
    "print(f\"There are a total of {count_stations} stations in the dataset.\")"
   ]
  },
  {
   "cell_type": "markdown",
   "metadata": {},
   "source": [
    "# Exploratory Precipitation Analysis"
   ]
  },
  {
   "cell_type": "code",
   "execution_count": 15,
   "metadata": {},
   "outputs": [
    {
     "name": "stdout",
     "output_type": "stream",
     "text": [
      "The most recent date in the data set is: ('2017-08-23',)\n",
      "The oldest date in the data set is: ('2010-01-01',)\n"
     ]
    }
   ],
   "source": [
    "# Most recent date in the data set.\n",
    "\n",
    "most_recent_date=session.query(Measurement.date).order_by(Measurement.date.desc()).first()\n",
    "print(f\"The most recent date in the data set is: {most_recent_date}\")\n",
    "\n",
    "oldest_date=session.query(Measurement.date).order_by(Measurement.date).first()\n",
    "print(f\"The oldest date in the data set is: {oldest_date}\")"
   ]
  },
  {
   "cell_type": "code",
   "execution_count": 16,
   "metadata": {},
   "outputs": [
    {
     "data": {
      "text/plain": [
       "datetime.date(2017, 8, 23)"
      ]
     },
     "execution_count": 16,
     "metadata": {},
     "output_type": "execute_result"
    }
   ],
   "source": [
    "# Formatting the date\n",
    "\n",
    "most_recent_date=(dt.date(year=2017, month=8, day=23))\n",
    "most_recent_date"
   ]
  },
  {
   "cell_type": "code",
   "execution_count": 17,
   "metadata": {},
   "outputs": [
    {
     "name": "stdout",
     "output_type": "stream",
     "text": [
      "2016-08-23\n"
     ]
    },
    {
     "data": {
      "text/plain": [
       "[('2016-08-22', 0.4),\n",
       " ('2016-08-22', 0.94),\n",
       " ('2016-08-22', None),\n",
       " ('2016-08-22', None),\n",
       " ('2016-08-22', 0.4),\n",
       " ('2016-08-22', 2.32),\n",
       " ('2016-08-22', 1.2),\n",
       " ('2016-08-21', 0.12),\n",
       " ('2016-08-21', 0.32),\n",
       " ('2016-08-21', 0.41),\n",
       " ('2016-08-21', 0.08),\n",
       " ('2016-08-21', 1.08),\n",
       " ('2016-08-20', 0.0),\n",
       " ('2016-08-20', 0.03),\n",
       " ('2016-08-20', 0.0),\n",
       " ('2016-08-20', 0.0),\n",
       " ('2016-08-20', 0.13),\n",
       " ('2016-08-20', 0.2),\n",
       " ('2016-08-19', 0.04),\n",
       " ('2016-08-19', 0.14),\n",
       " ('2016-08-19', 0.07),\n",
       " ('2016-08-19', 0.0),\n",
       " ('2016-08-19', 0.31),\n",
       " ('2016-08-19', 2.3),\n",
       " ('2016-08-18', 0.0),\n",
       " ('2016-08-18', 0.0),\n",
       " ('2016-08-18', 0.01),\n",
       " ('2016-08-18', 0.0),\n",
       " ('2016-08-18', 0.0),\n",
       " ('2016-08-18', 0.0),\n",
       " ('2016-08-18', 0.21),\n",
       " ('2016-08-17', 0.0),\n",
       " ('2016-08-17', 0.0),\n",
       " ('2016-08-17', 0.0),\n",
       " ('2016-08-17', 0.0),\n",
       " ('2016-08-17', 0.0),\n",
       " ('2016-08-17', 0.31),\n",
       " ('2016-08-17', 0.3),\n",
       " ('2016-08-16', 0.0),\n",
       " ('2016-08-16', 0.1),\n",
       " ('2016-08-16', 0.02),\n",
       " ('2016-08-16', 0.0),\n",
       " ('2016-08-16', 0.0),\n",
       " ('2016-08-16', 0.12),\n",
       " ('2016-08-16', 0.85),\n",
       " ('2016-08-15', 0.0),\n",
       " ('2016-08-15', 0.17),\n",
       " ('2016-08-15', None),\n",
       " ('2016-08-15', None),\n",
       " ('2016-08-15', 0.0),\n",
       " ('2016-08-15', 0.23),\n",
       " ('2016-08-15', 0.95),\n",
       " ('2016-08-14', 0.0),\n",
       " ('2016-08-14', 0.17),\n",
       " ('2016-08-14', 0.0),\n",
       " ('2016-08-14', 0.1),\n",
       " ('2016-08-14', 0.75),\n",
       " ('2016-08-13', 0.0),\n",
       " ('2016-08-13', 0.0),\n",
       " ('2016-08-13', 0.0),\n",
       " ('2016-08-13', 0.01),\n",
       " ('2016-08-13', 0.08),\n",
       " ('2016-08-13', 0.45),\n",
       " ('2016-08-12', 0.0),\n",
       " ('2016-08-12', 0.05),\n",
       " ('2016-08-12', 0.12),\n",
       " ('2016-08-12', None),\n",
       " ('2016-08-12', 0.0),\n",
       " ('2016-08-12', 0.02),\n",
       " ('2016-08-12', 0.39),\n",
       " ('2016-08-11', 0.0),\n",
       " ('2016-08-11', 0.04),\n",
       " ('2016-08-11', 0.0),\n",
       " ('2016-08-11', None),\n",
       " ('2016-08-11', 0.0),\n",
       " ('2016-08-11', 0.01),\n",
       " ('2016-08-11', 0.04),\n",
       " ('2016-08-10', 0.0),\n",
       " ('2016-08-10', 0.0),\n",
       " ('2016-08-10', 0.0),\n",
       " ('2016-08-10', None),\n",
       " ('2016-08-10', 0.0),\n",
       " ('2016-08-10', 0.0),\n",
       " ('2016-08-10', 0.0),\n",
       " ('2016-08-09', 0.0),\n",
       " ('2016-08-09', 0.0),\n",
       " ('2016-08-09', 0.0),\n",
       " ('2016-08-09', None),\n",
       " ('2016-08-09', 0.01),\n",
       " ('2016-08-09', 0.02),\n",
       " ('2016-08-09', 0.56),\n",
       " ('2016-08-08', 0.02),\n",
       " ('2016-08-08', 0.33),\n",
       " ('2016-08-08', 0.01),\n",
       " ('2016-08-08', None),\n",
       " ('2016-08-08', 0.0),\n",
       " ('2016-08-08', 0.28),\n",
       " ('2016-08-08', 0.02),\n",
       " ('2016-08-07', 0.39),\n",
       " ('2016-08-07', 0.3),\n",
       " ('2016-08-07', 0.48),\n",
       " ('2016-08-07', 0.4),\n",
       " ('2016-08-07', 0.47),\n",
       " ('2016-08-07', 1.3),\n",
       " ('2016-08-06', 0.0),\n",
       " ('2016-08-06', 0.07),\n",
       " ('2016-08-06', None),\n",
       " ('2016-08-06', 0.04),\n",
       " ('2016-08-06', 0.14),\n",
       " ('2016-08-06', None),\n",
       " ('2016-08-05', 0.01),\n",
       " ('2016-08-05', 0.03),\n",
       " ('2016-08-05', 0.03),\n",
       " ('2016-08-05', 0.0),\n",
       " ('2016-08-05', 0.27),\n",
       " ('2016-08-05', None),\n",
       " ('2016-08-04', 0.04),\n",
       " ('2016-08-04', 0.62),\n",
       " ('2016-08-04', 0.13),\n",
       " ('2016-08-04', 0.25),\n",
       " ('2016-08-04', 0.77),\n",
       " ('2016-08-04', None),\n",
       " ('2016-08-03', 0.0),\n",
       " ('2016-08-03', 0.02),\n",
       " ('2016-08-03', 0.0),\n",
       " ('2016-08-03', 0.02),\n",
       " ('2016-08-03', 0.0),\n",
       " ('2016-08-03', 0.01),\n",
       " ('2016-08-03', None),\n",
       " ('2016-08-02', 0.05),\n",
       " ('2016-08-02', 0.2),\n",
       " ('2016-08-02', 0.55),\n",
       " ('2016-08-02', 0.0),\n",
       " ('2016-08-02', 0.07),\n",
       " ('2016-08-02', 0.83),\n",
       " ('2016-08-02', 1.14),\n",
       " ('2016-08-01', 0.08),\n",
       " ('2016-08-01', 2.35),\n",
       " ('2016-08-01', None),\n",
       " ('2016-08-01', 0.54),\n",
       " ('2016-08-01', 3.53),\n",
       " ('2016-08-01', 2.21),\n",
       " ('2016-07-31', 0.06),\n",
       " ('2016-07-31', 0.05),\n",
       " ('2016-07-31', 0.79),\n",
       " ('2016-07-31', 0.12),\n",
       " ('2016-07-31', 2.9),\n",
       " ('2016-07-30', 0.0),\n",
       " ('2016-07-30', 0.03),\n",
       " ('2016-07-30', 0.08),\n",
       " ('2016-07-30', 0.01),\n",
       " ('2016-07-30', 0.4),\n",
       " ('2016-07-29', 0.0),\n",
       " ('2016-07-29', 0.0),\n",
       " ('2016-07-29', 0.01),\n",
       " ('2016-07-29', 0.0),\n",
       " ('2016-07-29', 0.0),\n",
       " ('2016-07-29', 0.05),\n",
       " ('2016-07-28', 0.0),\n",
       " ('2016-07-28', 0.0),\n",
       " ('2016-07-28', 0.05),\n",
       " ('2016-07-28', 0.0),\n",
       " ('2016-07-28', 0.0),\n",
       " ('2016-07-28', 0.0),\n",
       " ('2016-07-27', 0.0),\n",
       " ('2016-07-27', 0.02),\n",
       " ('2016-07-27', 0.0),\n",
       " ('2016-07-27', None),\n",
       " ('2016-07-27', 0.0),\n",
       " ('2016-07-27', 0.06),\n",
       " ('2016-07-27', 0.04),\n",
       " ('2016-07-26', 0.0),\n",
       " ('2016-07-26', 0.0),\n",
       " ('2016-07-26', 0.01),\n",
       " ('2016-07-26', 0.0),\n",
       " ('2016-07-26', 0.9),\n",
       " ('2016-07-26', 0.03),\n",
       " ('2016-07-25', 4.2),\n",
       " ('2016-07-25', 7.65),\n",
       " ('2016-07-25', None),\n",
       " ('2016-07-25', None),\n",
       " ('2016-07-25', 3.01),\n",
       " ('2016-07-25', 9.64),\n",
       " ('2016-07-25', 5.35),\n",
       " ('2016-07-24', 0.13),\n",
       " ('2016-07-24', 0.15),\n",
       " ('2016-07-24', 0.18),\n",
       " ('2016-07-24', 0.45),\n",
       " ('2016-07-24', 2.75),\n",
       " ('2016-07-23', 0.0),\n",
       " ('2016-07-23', 0.16),\n",
       " ('2016-07-23', None),\n",
       " ('2016-07-23', 0.07),\n",
       " ('2016-07-23', None),\n",
       " ('2016-07-22', 0.02),\n",
       " ('2016-07-22', 0.06),\n",
       " ('2016-07-22', 0.0),\n",
       " ('2016-07-22', 0.13),\n",
       " ('2016-07-21', 0.04),\n",
       " ('2016-07-21', 0.04),\n",
       " ('2016-07-21', None),\n",
       " ('2016-07-21', 0.06),\n",
       " ('2016-07-21', 0.01),\n",
       " ('2016-07-20', 0.0),\n",
       " ('2016-07-20', 0.0),\n",
       " ('2016-07-20', 0.0),\n",
       " ('2016-07-20', None),\n",
       " ('2016-07-20', 0.02),\n",
       " ('2016-07-20', 0.02),\n",
       " ('2016-07-20', 0.08),\n",
       " ('2016-07-19', 0.03),\n",
       " ('2016-07-19', 0.08),\n",
       " ('2016-07-19', 0.43),\n",
       " ('2016-07-19', 0.5),\n",
       " ('2016-07-19', 0.11),\n",
       " ('2016-07-19', 0.73),\n",
       " ('2016-07-19', 0.41),\n",
       " ('2016-07-18', 1.25),\n",
       " ('2016-07-18', 0.26),\n",
       " ('2016-07-18', None),\n",
       " ('2016-07-18', None),\n",
       " ('2016-07-18', 0.38),\n",
       " ('2016-07-18', 0.23),\n",
       " ('2016-07-18', 0.23),\n",
       " ('2016-07-17', 0.0),\n",
       " ('2016-07-17', 0.03),\n",
       " ('2016-07-17', 0.0),\n",
       " ('2016-07-17', 0.15),\n",
       " ('2016-07-17', 0.55),\n",
       " ('2016-07-16', 0.03),\n",
       " ('2016-07-16', 0.44),\n",
       " ('2016-07-16', 0.65),\n",
       " ('2016-07-16', 0.2),\n",
       " ('2016-07-16', 0.92),\n",
       " ('2016-07-16', 2.05),\n",
       " ('2016-07-15', 0.46),\n",
       " ('2016-07-15', 0.23),\n",
       " ('2016-07-15', 0.43),\n",
       " ('2016-07-15', None),\n",
       " ('2016-07-15', 0.42),\n",
       " ('2016-07-15', 0.14),\n",
       " ('2016-07-15', 1.7),\n",
       " ('2016-07-14', 0.0),\n",
       " ('2016-07-14', 0.43),\n",
       " ('2016-07-14', 0.38),\n",
       " ('2016-07-14', None),\n",
       " ('2016-07-14', None),\n",
       " ('2016-07-14', 0.8),\n",
       " ('2016-07-14', 1.15),\n",
       " ('2016-07-13', 0.0),\n",
       " ('2016-07-13', 0.06),\n",
       " ('2016-07-13', 0.05),\n",
       " ('2016-07-13', None),\n",
       " ('2016-07-13', 0.07),\n",
       " ('2016-07-13', 0.14),\n",
       " ('2016-07-12', 0.0),\n",
       " ('2016-07-12', 0.05),\n",
       " ('2016-07-12', 0.03),\n",
       " ('2016-07-12', None),\n",
       " ('2016-07-12', 0.0),\n",
       " ('2016-07-12', 0.0),\n",
       " ('2016-07-12', 0.03),\n",
       " ('2016-07-11', 0.0),\n",
       " ('2016-07-11', 0.11),\n",
       " ('2016-07-11', 0.0),\n",
       " ('2016-07-11', None),\n",
       " ('2016-07-11', 0.07),\n",
       " ('2016-07-11', 0.14),\n",
       " ('2016-07-11', 0.11),\n",
       " ('2016-07-10', 0.02),\n",
       " ('2016-07-10', 0.14),\n",
       " ('2016-07-10', 0.12),\n",
       " ('2016-07-10', 0.37),\n",
       " ('2016-07-10', 0.63),\n",
       " ('2016-07-10', 1.15),\n",
       " ('2016-07-09', 0.0),\n",
       " ('2016-07-09', 0.0),\n",
       " ('2016-07-09', 0.0),\n",
       " ('2016-07-09', 0.0),\n",
       " ('2016-07-09', 0.04),\n",
       " ('2016-07-09', 0.15),\n",
       " ('2016-07-08', 0.0),\n",
       " ('2016-07-08', 0.03),\n",
       " ('2016-07-08', 0.05),\n",
       " ('2016-07-08', None),\n",
       " ('2016-07-08', 0.01),\n",
       " ('2016-07-08', 0.02),\n",
       " ('2016-07-08', 0.31),\n",
       " ('2016-07-07', 0.01),\n",
       " ('2016-07-07', 0.05),\n",
       " ('2016-07-07', 0.19),\n",
       " ('2016-07-07', None),\n",
       " ('2016-07-07', 0.02),\n",
       " ('2016-07-07', 0.14),\n",
       " ('2016-07-07', 0.92),\n",
       " ('2016-07-06', 0.02),\n",
       " ('2016-07-06', 0.49),\n",
       " ('2016-07-06', 0.2),\n",
       " ('2016-07-06', None),\n",
       " ('2016-07-06', 0.1),\n",
       " ('2016-07-06', 0.8),\n",
       " ('2016-07-06', 1.46),\n",
       " ('2016-07-05', 0.02),\n",
       " ('2016-07-05', 0.05),\n",
       " ('2016-07-05', 0.0),\n",
       " ('2016-07-05', None),\n",
       " ('2016-07-05', 0.12),\n",
       " ('2016-07-05', 0.22),\n",
       " ('2016-07-05', 0.45),\n",
       " ('2016-07-04', 0.04),\n",
       " ('2016-07-04', 0.14),\n",
       " ('2016-07-04', None),\n",
       " ('2016-07-04', 0.03),\n",
       " ('2016-07-04', 0.27),\n",
       " ('2016-07-04', None),\n",
       " ('2016-07-03', 0.0),\n",
       " ('2016-07-03', 0.0),\n",
       " ('2016-07-03', 0.17),\n",
       " ('2016-07-03', 0.03),\n",
       " ('2016-07-02', 0.0),\n",
       " ('2016-07-02', 0.0),\n",
       " ('2016-07-02', None),\n",
       " ('2016-07-02', 0.0),\n",
       " ('2016-07-01', 0.0),\n",
       " ('2016-07-01', 0.0),\n",
       " ('2016-07-01', 0.0),\n",
       " ('2016-07-01', None),\n",
       " ('2016-07-01', 0.0),\n",
       " ('2016-07-01', None),\n",
       " ('2016-06-30', 0.0),\n",
       " ('2016-06-30', 0.0),\n",
       " ('2016-06-30', 0.0),\n",
       " ('2016-06-30', None),\n",
       " ('2016-06-30', 0.0),\n",
       " ('2016-06-30', 0.01),\n",
       " ('2016-06-29', 0.0),\n",
       " ('2016-06-29', 0.03),\n",
       " ('2016-06-29', 0.06),\n",
       " ('2016-06-29', None),\n",
       " ('2016-06-29', 0.0),\n",
       " ('2016-06-29', 0.1),\n",
       " ('2016-06-29', 0.35),\n",
       " ('2016-06-28', 0.0),\n",
       " ('2016-06-28', 0.02),\n",
       " ('2016-06-28', 0.0),\n",
       " ('2016-06-28', None),\n",
       " ('2016-06-28', 0.0),\n",
       " ('2016-06-28', 0.23),\n",
       " ('2016-06-28', 0.25),\n",
       " ('2016-06-27', 0.01),\n",
       " ('2016-06-27', 0.06),\n",
       " ('2016-06-27', 0.0),\n",
       " ('2016-06-27', None),\n",
       " ('2016-06-27', 0.0),\n",
       " ('2016-06-27', 0.37),\n",
       " ('2016-06-27', 0.3),\n",
       " ('2016-06-26', 0.01),\n",
       " ('2016-06-26', 0.06),\n",
       " ('2016-06-26', 0.03),\n",
       " ('2016-06-26', 0.0),\n",
       " ('2016-06-26', 0.03),\n",
       " ('2016-06-26', 0.7),\n",
       " ('2016-06-25', 0.03),\n",
       " ('2016-06-25', 0.8),\n",
       " ('2016-06-25', 0.44)]"
      ]
     },
     "execution_count": 17,
     "metadata": {},
     "output_type": "execute_result"
    }
   ],
   "source": [
    "# Retrieving the last 12 months of precipitation data\n",
    "\n",
    "date_str=most_recent_date\n",
    "\n",
    "query_l12m=most_recent_date-dt.timedelta(days=365) # substracting 360 days from current date\n",
    "print(query_l12m)\n",
    "\n",
    "# Querying\n",
    "results_query_l12m=session.query(Measurement.date,Measurement.prcp).\\\n",
    "            filter(func.strftime(\"%Y-%m-%d\", Measurement.date) < str(query_l12m))\\\n",
    "            .order_by(Measurement.date.desc()).limit(365).all()\n",
    "\n",
    "results_query_l12m"
   ]
  },
  {
   "cell_type": "code",
   "execution_count": 18,
   "metadata": {
    "scrolled": false
   },
   "outputs": [
    {
     "data": {
      "text/html": [
       "<div>\n",
       "<style scoped>\n",
       "    .dataframe tbody tr th:only-of-type {\n",
       "        vertical-align: middle;\n",
       "    }\n",
       "\n",
       "    .dataframe tbody tr th {\n",
       "        vertical-align: top;\n",
       "    }\n",
       "\n",
       "    .dataframe thead th {\n",
       "        text-align: right;\n",
       "    }\n",
       "</style>\n",
       "<table border=\"1\" class=\"dataframe\">\n",
       "  <thead>\n",
       "    <tr style=\"text-align: right;\">\n",
       "      <th></th>\n",
       "      <th>Date</th>\n",
       "      <th>Precipitation</th>\n",
       "    </tr>\n",
       "  </thead>\n",
       "  <tbody>\n",
       "    <tr>\n",
       "      <th>1</th>\n",
       "      <td>2016-08-22</td>\n",
       "      <td>0.40</td>\n",
       "    </tr>\n",
       "    <tr>\n",
       "      <th>2</th>\n",
       "      <td>2016-08-22</td>\n",
       "      <td>0.94</td>\n",
       "    </tr>\n",
       "    <tr>\n",
       "      <th>5</th>\n",
       "      <td>2016-08-22</td>\n",
       "      <td>0.40</td>\n",
       "    </tr>\n",
       "    <tr>\n",
       "      <th>6</th>\n",
       "      <td>2016-08-22</td>\n",
       "      <td>2.32</td>\n",
       "    </tr>\n",
       "    <tr>\n",
       "      <th>7</th>\n",
       "      <td>2016-08-22</td>\n",
       "      <td>1.20</td>\n",
       "    </tr>\n",
       "    <tr>\n",
       "      <th>...</th>\n",
       "      <td>...</td>\n",
       "      <td>...</td>\n",
       "    </tr>\n",
       "    <tr>\n",
       "      <th>361</th>\n",
       "      <td>2016-06-26</td>\n",
       "      <td>0.03</td>\n",
       "    </tr>\n",
       "    <tr>\n",
       "      <th>362</th>\n",
       "      <td>2016-06-26</td>\n",
       "      <td>0.70</td>\n",
       "    </tr>\n",
       "    <tr>\n",
       "      <th>363</th>\n",
       "      <td>2016-06-25</td>\n",
       "      <td>0.03</td>\n",
       "    </tr>\n",
       "    <tr>\n",
       "      <th>364</th>\n",
       "      <td>2016-06-25</td>\n",
       "      <td>0.80</td>\n",
       "    </tr>\n",
       "    <tr>\n",
       "      <th>365</th>\n",
       "      <td>2016-06-25</td>\n",
       "      <td>0.44</td>\n",
       "    </tr>\n",
       "  </tbody>\n",
       "</table>\n",
       "<p>322 rows × 2 columns</p>\n",
       "</div>"
      ],
      "text/plain": [
       "           Date  Precipitation\n",
       "1    2016-08-22           0.40\n",
       "2    2016-08-22           0.94\n",
       "5    2016-08-22           0.40\n",
       "6    2016-08-22           2.32\n",
       "7    2016-08-22           1.20\n",
       "..          ...            ...\n",
       "361  2016-06-26           0.03\n",
       "362  2016-06-26           0.70\n",
       "363  2016-06-25           0.03\n",
       "364  2016-06-25           0.80\n",
       "365  2016-06-25           0.44\n",
       "\n",
       "[322 rows x 2 columns]"
      ]
     },
     "execution_count": 18,
     "metadata": {},
     "output_type": "execute_result"
    }
   ],
   "source": [
    "# Printing Precipitation / Date table\n",
    "\n",
    "last_12m_p=pd.DataFrame(results_query_l12m) # passing query into a dataframe\n",
    "last_12m_p=last_12m_p.rename(columns={'date':'Date','prcp':'Precipitation'}) # renaming columns\n",
    "last_12m_p.index=np.arange(1,len(last_12m_p)+1) # resetting index to start at 1\n",
    "last_12m_p=last_12m_p.dropna() # dropping Nan values\n",
    "\n",
    "last_12m_p"
   ]
  },
  {
   "cell_type": "code",
   "execution_count": 19,
   "metadata": {},
   "outputs": [
    {
     "data": {
      "image/png": "[encoded data removed]",
      "text/plain": [
       "<Figure size 432x288 with 1 Axes>"
      ]
     },
     "metadata": {},
     "output_type": "display_data"
    }
   ],
   "source": [
    "# Plotting last_12m_p \"Precipitation / Dates\"\n",
    "\n",
    "last_12m_p.plot(x='Date', y='Precipitation', rot=90)\n",
    "plt.title(\"Precipitation levels for the previous 12 months \")\n",
    "plt.ylabel(\"Inches\")\n",
    "plt.xlabel(\"Dates\")\n",
    "plt.show()"
   ]
  },
  {
   "cell_type": "code",
   "execution_count": 20,
   "metadata": {},
   "outputs": [
    {
     "data": {
      "text/html": [
       "<div>\n",
       "<style scoped>\n",
       "    .dataframe tbody tr th:only-of-type {\n",
       "        vertical-align: middle;\n",
       "    }\n",
       "\n",
       "    .dataframe tbody tr th {\n",
       "        vertical-align: top;\n",
       "    }\n",
       "\n",
       "    .dataframe thead th {\n",
       "        text-align: right;\n",
       "    }\n",
       "</style>\n",
       "<table border=\"1\" class=\"dataframe\">\n",
       "  <thead>\n",
       "    <tr style=\"text-align: right;\">\n",
       "      <th></th>\n",
       "      <th>Precipitation</th>\n",
       "    </tr>\n",
       "  </thead>\n",
       "  <tbody>\n",
       "    <tr>\n",
       "      <th>count</th>\n",
       "      <td>322.000000</td>\n",
       "    </tr>\n",
       "    <tr>\n",
       "      <th>mean</th>\n",
       "      <td>0.322795</td>\n",
       "    </tr>\n",
       "    <tr>\n",
       "      <th>std</th>\n",
       "      <td>0.903342</td>\n",
       "    </tr>\n",
       "    <tr>\n",
       "      <th>min</th>\n",
       "      <td>0.000000</td>\n",
       "    </tr>\n",
       "    <tr>\n",
       "      <th>25%</th>\n",
       "      <td>0.000000</td>\n",
       "    </tr>\n",
       "    <tr>\n",
       "      <th>50%</th>\n",
       "      <td>0.040000</td>\n",
       "    </tr>\n",
       "    <tr>\n",
       "      <th>75%</th>\n",
       "      <td>0.270000</td>\n",
       "    </tr>\n",
       "    <tr>\n",
       "      <th>max</th>\n",
       "      <td>9.640000</td>\n",
       "    </tr>\n",
       "  </tbody>\n",
       "</table>\n",
       "</div>"
      ],
      "text/plain": [
       "       Precipitation\n",
       "count     322.000000\n",
       "mean        0.322795\n",
       "std         0.903342\n",
       "min         0.000000\n",
       "25%         0.000000\n",
       "50%         0.040000\n",
       "75%         0.270000\n",
       "max         9.640000"
      ]
     },
     "execution_count": 20,
     "metadata": {},
     "output_type": "execute_result"
    }
   ],
   "source": [
    "# Calculating summary statistics for the precipitation data\n",
    "\n",
    "last_12m_p.describe()"
   ]
  },
  {
   "cell_type": "markdown",
   "metadata": {},
   "source": [
    "# Exploratory Station Analysis"
   ]
  },
  {
   "cell_type": "code",
   "execution_count": 21,
   "metadata": {},
   "outputs": [
    {
     "name": "stdout",
     "output_type": "stream",
     "text": [
      "There are a total of 9 stations in the dataset.\n"
     ]
    }
   ],
   "source": [
    "# Total number of stations in the dataset\n",
    "\n",
    "total_stations=session.query(Stations.id).all()\n",
    "print(f\"There are a total of {len(total_stations)} stations in the dataset.\")"
   ]
  },
  {
   "cell_type": "code",
   "execution_count": 22,
   "metadata": {},
   "outputs": [
    {
     "data": {
      "text/plain": [
       "[('USC00519281', 2772),\n",
       " ('USC00519397', 2724),\n",
       " ('USC00513117', 2709),\n",
       " ('USC00519523', 2669),\n",
       " ('USC00516128', 2612),\n",
       " ('USC00514830', 2202),\n",
       " ('USC00511918', 1979),\n",
       " ('USC00517948', 1372),\n",
       " ('USC00518838', 511)]"
      ]
     },
     "execution_count": 22,
     "metadata": {},
     "output_type": "execute_result"
    }
   ],
   "source": [
    "# Querying for stations with the most results\n",
    "\n",
    "query_most_active=session.query\\\n",
    "        (Measurement.station, func.count(Measurement.station))\\\n",
    "        .group_by(Measurement.station).order_by(func.count(Measurement.station).desc())\\\n",
    "        .all()\n",
    "\n",
    "query_most_active"
   ]
  },
  {
   "cell_type": "code",
   "execution_count": 23,
   "metadata": {},
   "outputs": [
    {
     "data": {
      "text/plain": [
       "[2772, 2724, 2709, 2669, 2612, 2202, 1979, 1372, 511]"
      ]
     },
     "execution_count": 23,
     "metadata": {},
     "output_type": "execute_result"
    }
   ],
   "source": [
    "# Unpacking Tuples\n",
    "\n",
    "station_name=[result[0] for result in query_most_active]\n",
    "station_count=[result[1] for result in query_most_active]\n",
    "station_count"
   ]
  },
  {
   "cell_type": "code",
   "execution_count": 24,
   "metadata": {},
   "outputs": [
    {
     "data": {
      "image/png": "[encoded data removed]",
      "text/plain": [
       "<Figure size 432x288 with 1 Axes>"
      ]
     },
     "metadata": {},
     "output_type": "display_data"
    }
   ],
   "source": [
    "# Plotting most popular stations based on data counts\n",
    "\n",
    "fig, ax = plt.subplots()\n",
    "ypos = range(1, len(station_count)+1)\n",
    "ax.barh(ypos, station_count[::-1])\n",
    "ax.set_xlabel(\"Count\")\n",
    "ax.set_ylabel(\"Station\")\n",
    "ax.set_yticks(ypos)\n",
    "ax.set_yticklabels(station_name[::-1])\n",
    "ax.set_title(\"Most Popular Stations Based on Data Count\")\n",
    "fig.tight_layout()\n",
    "\n",
    "plt.show()"
   ]
  },
  {
   "cell_type": "code",
   "execution_count": 25,
   "metadata": {},
   "outputs": [
    {
     "name": "stdout",
     "output_type": "stream",
     "text": [
      "The lowest temperature recorded in station USC00519281 is 54.0\n"
     ]
    }
   ],
   "source": [
    "# Querying the lowest temperature of station USC00519281\n",
    "\n",
    "low_temp_top_s=session.query\\\n",
    "        (func.min(Measurement.tobs))\\\n",
    "        .filter(Measurement.station=='USC00519281')\\\n",
    "        .scalar()\n",
    "\n",
    "print(f\"The lowest temperature recorded in station USC00519281 is {low_temp_top_s}\")"
   ]
  },
  {
   "cell_type": "code",
   "execution_count": 26,
   "metadata": {},
   "outputs": [
    {
     "name": "stdout",
     "output_type": "stream",
     "text": [
      "The highest temperature recorded in station USC00519281 is 85.0\n"
     ]
    }
   ],
   "source": [
    "# Querying the highest temperature of station USC00519281\n",
    "\n",
    "max_temp_top_s=session.query\\\n",
    "        (func.max(Measurement.tobs))\\\n",
    "        .filter(Measurement.station=='USC00519281')\\\n",
    "        .scalar()\n",
    "\n",
    "print(f\"The highest temperature recorded in station USC00519281 is {max_temp_top_s}\")"
   ]
  },
  {
   "cell_type": "code",
   "execution_count": 27,
   "metadata": {},
   "outputs": [
    {
     "name": "stdout",
     "output_type": "stream",
     "text": [
      "The average temperature recorded in station USC00519281 is 71.66378066378067\n"
     ]
    }
   ],
   "source": [
    "# Querying the average temperature from station USC00519281\n",
    "\n",
    "avg_temp_top_s=session.query\\\n",
    "        (func.avg(Measurement.tobs))\\\n",
    "        .filter(Measurement.station=='USC00519281')\\\n",
    "        .scalar()\n",
    "\n",
    "print(f\"The average temperature recorded in station USC00519281 is {avg_temp_top_s}\")"
   ]
  },
  {
   "cell_type": "code",
   "execution_count": 28,
   "metadata": {},
   "outputs": [
    {
     "data": {
      "text/plain": [
       "[('2016-08-23', 77.0),\n",
       " ('2016-08-24', 77.0),\n",
       " ('2016-08-25', 80.0),\n",
       " ('2016-08-26', 80.0),\n",
       " ('2016-08-27', 75.0),\n",
       " ('2016-08-28', 73.0),\n",
       " ('2016-08-29', 78.0),\n",
       " ('2016-08-30', 77.0),\n",
       " ('2016-08-31', 78.0),\n",
       " ('2016-09-01', 80.0),\n",
       " ('2016-09-02', 80.0),\n",
       " ('2016-09-03', 78.0),\n",
       " ('2016-09-04', 78.0),\n",
       " ('2016-09-05', 78.0),\n",
       " ('2016-09-06', 73.0),\n",
       " ('2016-09-07', 74.0),\n",
       " ('2016-09-08', 80.0),\n",
       " ('2016-09-09', 79.0),\n",
       " ('2016-09-10', 77.0),\n",
       " ('2016-09-11', 80.0),\n",
       " ('2016-09-12', 76.0),\n",
       " ('2016-09-13', 79.0),\n",
       " ('2016-09-14', 75.0),\n",
       " ('2016-09-15', 79.0),\n",
       " ('2016-09-16', 78.0),\n",
       " ('2016-09-17', 79.0),\n",
       " ('2016-09-18', 78.0),\n",
       " ('2016-09-19', 78.0),\n",
       " ('2016-09-20', 76.0),\n",
       " ('2016-09-21', 74.0),\n",
       " ('2016-09-22', 77.0),\n",
       " ('2016-09-23', 78.0),\n",
       " ('2016-09-24', 79.0),\n",
       " ('2016-09-25', 79.0),\n",
       " ('2016-09-26', 77.0),\n",
       " ('2016-09-27', 80.0),\n",
       " ('2016-09-28', 78.0),\n",
       " ('2016-09-29', 78.0),\n",
       " ('2016-09-30', 78.0),\n",
       " ('2016-10-01', 77.0),\n",
       " ('2016-10-02', 79.0),\n",
       " ('2016-10-03', 79.0),\n",
       " ('2016-10-04', 79.0),\n",
       " ('2016-10-05', 79.0),\n",
       " ('2016-10-06', 75.0),\n",
       " ('2016-10-07', 76.0),\n",
       " ('2016-10-08', 73.0),\n",
       " ('2016-10-09', 72.0),\n",
       " ('2016-10-10', 71.0),\n",
       " ('2016-10-11', 77.0),\n",
       " ('2016-10-12', 79.0),\n",
       " ('2016-10-13', 78.0),\n",
       " ('2016-10-14', 79.0),\n",
       " ('2016-10-15', 77.0),\n",
       " ('2016-10-16', 79.0),\n",
       " ('2016-10-17', 77.0),\n",
       " ('2016-10-18', 78.0),\n",
       " ('2016-10-19', 78.0),\n",
       " ('2016-10-20', 78.0),\n",
       " ('2016-10-21', 78.0),\n",
       " ('2016-10-22', 77.0),\n",
       " ('2016-10-23', 74.0),\n",
       " ('2016-10-24', 75.0),\n",
       " ('2016-10-25', 76.0),\n",
       " ('2016-10-26', 73.0),\n",
       " ('2016-10-27', 76.0),\n",
       " ('2016-10-28', 74.0),\n",
       " ('2016-10-29', 77.0),\n",
       " ('2016-10-30', 76.0),\n",
       " ('2016-10-31', 76.0),\n",
       " ('2016-11-01', 74.0),\n",
       " ('2016-11-02', 75.0),\n",
       " ('2016-11-03', 75.0),\n",
       " ('2016-11-04', 75.0),\n",
       " ('2016-11-05', 75.0),\n",
       " ('2016-11-06', 71.0),\n",
       " ('2016-11-07', 63.0),\n",
       " ('2016-11-08', 70.0),\n",
       " ('2016-11-09', 68.0),\n",
       " ('2016-11-10', 67.0),\n",
       " ('2016-11-11', 77.0),\n",
       " ('2016-11-12', 74.0),\n",
       " ('2016-11-13', 77.0),\n",
       " ('2016-11-14', 76.0),\n",
       " ('2016-11-15', 76.0),\n",
       " ('2016-11-16', 75.0),\n",
       " ('2016-11-17', 76.0),\n",
       " ('2016-11-18', 75.0),\n",
       " ('2016-11-19', 73.0),\n",
       " ('2016-11-20', 75.0),\n",
       " ('2016-11-21', 73.0),\n",
       " ('2016-11-22', 75.0),\n",
       " ('2016-11-23', 74.0),\n",
       " ('2016-11-24', 75.0),\n",
       " ('2016-11-25', 74.0),\n",
       " ('2016-11-26', 75.0),\n",
       " ('2016-11-27', 73.0),\n",
       " ('2016-11-28', 75.0),\n",
       " ('2016-11-29', 73.0),\n",
       " ('2016-11-30', 73.0),\n",
       " ('2016-12-01', 74.0),\n",
       " ('2016-12-02', 70.0),\n",
       " ('2016-12-03', 72.0),\n",
       " ('2016-12-04', 70.0),\n",
       " ('2016-12-05', 67.0),\n",
       " ('2016-12-06', 67.0),\n",
       " ('2016-12-07', 69.0),\n",
       " ('2016-12-08', 70.0),\n",
       " ('2016-12-09', 68.0),\n",
       " ('2016-12-10', 69.0),\n",
       " ('2016-12-11', 69.0),\n",
       " ('2016-12-12', 66.0),\n",
       " ('2016-12-13', 65.0),\n",
       " ('2016-12-14', 68.0),\n",
       " ('2016-12-15', 62.0),\n",
       " ('2016-12-16', 75.0),\n",
       " ('2016-12-17', 70.0),\n",
       " ('2016-12-18', 69.0),\n",
       " ('2016-12-19', 76.0),\n",
       " ('2016-12-20', 76.0),\n",
       " ('2016-12-21', 74.0),\n",
       " ('2016-12-22', 73.0),\n",
       " ('2016-12-23', 71.0),\n",
       " ('2016-12-24', 74.0),\n",
       " ('2016-12-25', 74.0),\n",
       " ('2016-12-26', 72.0),\n",
       " ('2016-12-27', 71.0),\n",
       " ('2016-12-28', 72.0),\n",
       " ('2016-12-29', 74.0),\n",
       " ('2016-12-30', 69.0),\n",
       " ('2016-12-31', 67.0),\n",
       " ('2017-01-01', 72.0),\n",
       " ('2017-01-02', 70.0),\n",
       " ('2017-01-03', 64.0),\n",
       " ('2017-01-04', 63.0),\n",
       " ('2017-01-05', 63.0),\n",
       " ('2017-01-06', 62.0),\n",
       " ('2017-01-07', 70.0),\n",
       " ('2017-01-08', 70.0),\n",
       " ('2017-01-09', 62.0),\n",
       " ('2017-01-10', 62.0),\n",
       " ('2017-01-11', 63.0),\n",
       " ('2017-01-12', 65.0),\n",
       " ('2017-01-13', 69.0),\n",
       " ('2017-01-14', 77.0),\n",
       " ('2017-01-15', 70.0),\n",
       " ('2017-01-16', 74.0),\n",
       " ('2017-01-17', 69.0),\n",
       " ('2017-01-18', 72.0),\n",
       " ('2017-01-19', 71.0),\n",
       " ('2017-01-20', 69.0),\n",
       " ('2017-01-21', 71.0),\n",
       " ('2017-01-22', 71.0),\n",
       " ('2017-01-23', 72.0),\n",
       " ('2017-01-24', 72.0),\n",
       " ('2017-01-25', 69.0),\n",
       " ('2017-01-26', 70.0),\n",
       " ('2017-01-27', 66.0),\n",
       " ('2017-01-28', 65.0),\n",
       " ('2017-01-29', 69.0),\n",
       " ('2017-01-30', 68.0),\n",
       " ('2017-01-31', 68.0),\n",
       " ('2017-02-01', 68.0),\n",
       " ('2017-02-02', 59.0),\n",
       " ('2017-02-03', 60.0),\n",
       " ('2017-02-04', 70.0),\n",
       " ('2017-02-05', 73.0),\n",
       " ('2017-02-06', 75.0),\n",
       " ('2017-02-07', 64.0),\n",
       " ('2017-02-08', 59.0),\n",
       " ('2017-02-09', 59.0),\n",
       " ('2017-02-10', 62.0),\n",
       " ('2017-02-11', 68.0),\n",
       " ('2017-02-12', 70.0),\n",
       " ('2017-02-13', 73.0),\n",
       " ('2017-02-14', 79.0),\n",
       " ('2017-02-15', 75.0),\n",
       " ('2017-02-16', 65.0),\n",
       " ('2017-02-17', 70.0),\n",
       " ('2017-02-18', 74.0),\n",
       " ('2017-02-19', 70.0),\n",
       " ('2017-02-20', 70.0),\n",
       " ('2017-02-21', 71.0),\n",
       " ('2017-02-22', 71.0),\n",
       " ('2017-02-23', 71.0),\n",
       " ('2017-02-24', 69.0),\n",
       " ('2017-02-25', 61.0),\n",
       " ('2017-02-26', 67.0),\n",
       " ('2017-02-27', 65.0),\n",
       " ('2017-02-28', 72.0),\n",
       " ('2017-03-01', 71.0),\n",
       " ('2017-03-02', 73.0),\n",
       " ('2017-03-03', 72.0),\n",
       " ('2017-03-04', 77.0),\n",
       " ('2017-03-05', 73.0),\n",
       " ('2017-03-06', 67.0),\n",
       " ('2017-03-07', 62.0),\n",
       " ('2017-03-08', 64.0),\n",
       " ('2017-03-09', 67.0),\n",
       " ('2017-03-10', 66.0),\n",
       " ('2017-03-11', 81.0),\n",
       " ('2017-03-12', 69.0),\n",
       " ('2017-03-13', 66.0),\n",
       " ('2017-03-14', 67.0),\n",
       " ('2017-03-15', 69.0),\n",
       " ('2017-03-16', 66.0),\n",
       " ('2017-03-17', 68.0),\n",
       " ('2017-03-18', 65.0),\n",
       " ('2017-03-19', 74.0),\n",
       " ('2017-03-20', 69.0),\n",
       " ('2017-03-21', 72.0),\n",
       " ('2017-03-22', 73.0),\n",
       " ('2017-03-23', 72.0),\n",
       " ('2017-03-24', 71.0),\n",
       " ('2017-03-25', 76.0),\n",
       " ('2017-03-26', 77.0),\n",
       " ('2017-03-27', 76.0),\n",
       " ('2017-03-28', 74.0),\n",
       " ('2017-03-29', 68.0),\n",
       " ('2017-03-30', 73.0),\n",
       " ('2017-03-31', 71.0),\n",
       " ('2017-04-01', 74.0),\n",
       " ('2017-04-02', 75.0),\n",
       " ('2017-04-03', 70.0),\n",
       " ('2017-04-04', 67.0),\n",
       " ('2017-04-05', 71.0),\n",
       " ('2017-04-06', 67.0),\n",
       " ('2017-04-07', 74.0),\n",
       " ('2017-04-08', 77.0),\n",
       " ('2017-04-09', 78.0),\n",
       " ('2017-04-10', 67.0),\n",
       " ('2017-04-11', 70.0),\n",
       " ('2017-04-12', 69.0),\n",
       " ('2017-04-13', 69.0),\n",
       " ('2017-04-14', 74.0),\n",
       " ('2017-04-15', 78.0),\n",
       " ('2017-04-16', 71.0),\n",
       " ('2017-04-17', 67.0),\n",
       " ('2017-04-18', 68.0),\n",
       " ('2017-04-19', 67.0),\n",
       " ('2017-04-20', 76.0),\n",
       " ('2017-04-21', 69.0),\n",
       " ('2017-04-22', 72.0),\n",
       " ('2017-04-23', 76.0),\n",
       " ('2017-04-24', 68.0),\n",
       " ('2017-04-25', 72.0),\n",
       " ('2017-04-26', 74.0),\n",
       " ('2017-04-27', 70.0),\n",
       " ('2017-04-28', 67.0),\n",
       " ('2017-04-29', 72.0),\n",
       " ('2017-04-30', 60.0),\n",
       " ('2017-05-01', 65.0),\n",
       " ('2017-05-02', 75.0),\n",
       " ('2017-05-03', 70.0),\n",
       " ('2017-05-04', 75.0),\n",
       " ('2017-05-05', 70.0),\n",
       " ('2017-05-06', 79.0),\n",
       " ('2017-05-07', 75.0),\n",
       " ('2017-05-08', 70.0),\n",
       " ('2017-05-09', 67.0),\n",
       " ('2017-05-10', 74.0),\n",
       " ('2017-05-11', 70.0),\n",
       " ('2017-05-12', 75.0),\n",
       " ('2017-05-13', 76.0),\n",
       " ('2017-05-14', 77.0),\n",
       " ('2017-05-15', 74.0),\n",
       " ('2017-05-16', 74.0),\n",
       " ('2017-05-17', 74.0),\n",
       " ('2017-05-18', 69.0),\n",
       " ('2017-05-19', 68.0),\n",
       " ('2017-05-20', 76.0),\n",
       " ('2017-05-21', 74.0),\n",
       " ('2017-05-22', 71.0),\n",
       " ('2017-05-23', 71.0),\n",
       " ('2017-05-24', 74.0),\n",
       " ('2017-05-25', 74.0),\n",
       " ('2017-05-26', 74.0),\n",
       " ('2017-05-27', 74.0),\n",
       " ('2017-05-28', 80.0),\n",
       " ('2017-05-29', 74.0),\n",
       " ('2017-05-30', 72.0),\n",
       " ('2017-05-31', 75.0),\n",
       " ('2017-06-01', 80.0),\n",
       " ('2017-06-02', 76.0),\n",
       " ('2017-06-03', 76.0),\n",
       " ('2017-06-04', 77.0),\n",
       " ('2017-06-05', 75.0),\n",
       " ('2017-06-06', 75.0),\n",
       " ('2017-06-07', 75.0),\n",
       " ('2017-06-08', 75.0),\n",
       " ('2017-06-09', 72.0),\n",
       " ('2017-06-10', 74.0),\n",
       " ('2017-06-11', 74.0),\n",
       " ('2017-06-12', 74.0),\n",
       " ('2017-06-13', 76.0),\n",
       " ('2017-06-14', 74.0),\n",
       " ('2017-06-15', 75.0),\n",
       " ('2017-06-16', 73.0),\n",
       " ('2017-06-17', 79.0),\n",
       " ('2017-06-18', 75.0),\n",
       " ('2017-06-19', 72.0),\n",
       " ('2017-06-20', 72.0),\n",
       " ('2017-06-21', 74.0),\n",
       " ('2017-06-22', 72.0),\n",
       " ('2017-06-23', 72.0),\n",
       " ('2017-06-24', 77.0),\n",
       " ('2017-06-25', 71.0),\n",
       " ('2017-06-26', 73.0),\n",
       " ('2017-06-27', 76.0),\n",
       " ('2017-06-28', 77.0),\n",
       " ('2017-06-29', 76.0),\n",
       " ('2017-06-30', 76.0),\n",
       " ('2017-07-01', 79.0),\n",
       " ('2017-07-02', 81.0),\n",
       " ('2017-07-03', 76.0),\n",
       " ('2017-07-04', 78.0),\n",
       " ('2017-07-05', 77.0),\n",
       " ('2017-07-06', 74.0),\n",
       " ('2017-07-07', 75.0),\n",
       " ('2017-07-08', 78.0),\n",
       " ('2017-07-09', 78.0),\n",
       " ('2017-07-10', 69.0),\n",
       " ('2017-07-11', 72.0),\n",
       " ('2017-07-12', 74.0),\n",
       " ('2017-07-13', 74.0),\n",
       " ('2017-07-14', 76.0),\n",
       " ('2017-07-15', 80.0),\n",
       " ('2017-07-16', 80.0),\n",
       " ('2017-07-17', 76.0),\n",
       " ('2017-07-18', 76.0),\n",
       " ('2017-07-19', 76.0),\n",
       " ('2017-07-20', 77.0),\n",
       " ('2017-07-21', 77.0),\n",
       " ('2017-07-22', 77.0),\n",
       " ('2017-07-23', 82.0),\n",
       " ('2017-07-24', 75.0),\n",
       " ('2017-07-25', 77.0),\n",
       " ('2017-07-26', 75.0),\n",
       " ('2017-07-27', 76.0),\n",
       " ('2017-07-28', 81.0),\n",
       " ('2017-07-29', 82.0),\n",
       " ('2017-07-30', 81.0),\n",
       " ('2017-07-31', 76.0),\n",
       " ('2017-08-04', 77.0),\n",
       " ('2017-08-05', 82.0),\n",
       " ('2017-08-06', 83.0),\n",
       " ('2017-08-13', 77.0),\n",
       " ('2017-08-14', 77.0),\n",
       " ('2017-08-15', 77.0),\n",
       " ('2017-08-16', 76.0),\n",
       " ('2017-08-17', 76.0),\n",
       " ('2017-08-18', 79.0)]"
      ]
     },
     "execution_count": 28,
     "metadata": {},
     "output_type": "execute_result"
    }
   ],
   "source": [
    "# Querying the last 12 months of temperature observation data for station USC00519281\n",
    "\n",
    "date_str=most_recent_date\n",
    "query_l12m=most_recent_date-dt.timedelta(days=365)\n",
    "\n",
    "\n",
    "results=session.query(Measurement.date, Measurement.tobs).\\\n",
    "                filter(Measurement.station=='USC00519281').\\\n",
    "                filter(Measurement.date>=query_l12m).all()\n",
    "\n",
    "\n",
    "results"
   ]
  },
  {
   "cell_type": "code",
   "execution_count": 29,
   "metadata": {},
   "outputs": [
    {
     "data": {
      "text/plain": [
       "0      77.0\n",
       "1      77.0\n",
       "2      80.0\n",
       "3      80.0\n",
       "4      75.0\n",
       "       ... \n",
       "347    77.0\n",
       "348    77.0\n",
       "349    76.0\n",
       "350    76.0\n",
       "351    79.0\n",
       "Name: tobs, Length: 352, dtype: float64"
      ]
     },
     "execution_count": 29,
     "metadata": {},
     "output_type": "execute_result"
    }
   ],
   "source": [
    "# Plotting results in histogram\n",
    "\n",
    "hist_df=pd.DataFrame(results)['tobs']\n",
    "hist_df"
   ]
  },
  {
   "cell_type": "code",
   "execution_count": 30,
   "metadata": {},
   "outputs": [
    {
     "data": {
      "text/plain": [
       "<matplotlib.legend.Legend at 0x21fed6e2f10>"
      ]
     },
     "execution_count": 30,
     "metadata": {},
     "output_type": "execute_result"
    },
    {
     "data": {
      "image/png": "[encoded data removed]",
      "text/plain": [
       "<Figure size 432x288 with 1 Axes>"
      ]
     },
     "metadata": {},
     "output_type": "display_data"
    }
   ],
   "source": [
    "hist_df.plot.hist(bins=12)\n",
    "plt.xlabel('Temperature')\n",
    "plt.title('Station USC00519281 Temperature Last 12 Months')\n",
    "\n",
    "plt.legend()"
   ]
  },
  {
   "cell_type": "markdown",
   "metadata": {},
   "source": [
    "# Close session"
   ]
  },
  {
   "cell_type": "code",
   "execution_count": 31,
   "metadata": {},
   "outputs": [],
   "source": [
    "# Close Session\n",
    "session.close()"
   ]
  }
 ],
 "metadata": {
  "anaconda-cloud": {},
  "kernel_info": {
   "name": "python3"
  },
  "kernelspec": {
   "display_name": "Python 3",
   "language": "python",
   "name": "python3"
  },
  "language_info": {
   "codemirror_mode": {
    "name": "ipython",
    "version": 3
   },
   "file_extension": ".py",
   "mimetype": "text/x-python",
   "name": "python",
   "nbconvert_exporter": "python",
   "pygments_lexer": "ipython3",
   "version": "3.8.5"
  },
  "nteract": {
   "version": "0.12.3"
  },
  "varInspector": {
   "cols": {
    "lenName": 16,
    "lenType": 16,
    "lenVar": 40
   },
   "kernels_config": {
    "python": {
     "delete_cmd_postfix": "",
     "delete_cmd_prefix": "del ",
     "library": "var_list.py",
     "varRefreshCmd": "print(var_dic_list())"
    },
    "r": {
     "delete_cmd_postfix": ") ",
     "delete_cmd_prefix": "rm(",
     "library": "var_list.r",
     "varRefreshCmd": "cat(var_dic_list()) "
    }
   },
   "types_to_exclude": [
    "module",
    "function",
    "builtin_function_or_method",
    "instance",
    "_Feature"
   ],
   "window_display": false
  }
 },
 "nbformat": 4,
 "nbformat_minor": 2
}
